{
  "nbformat": 4,
  "nbformat_minor": 0,
  "metadata": {
    "colab": {
      "name": "IMDB_Review_Using_AutoEncoderEmbedding.ipynb",
      "provenance": [],
      "collapsed_sections": []
    },
    "kernelspec": {
      "name": "python3",
      "display_name": "Python 3"
    },
    "accelerator": "GPU"
  },
  "cells": [
    {
      "cell_type": "markdown",
      "metadata": {
        "id": "uBV1NcruBmU_",
        "colab_type": "text"
      },
      "source": [
        "# **IMDB Rating review classification into Good or Bad**"
      ]
    },
    {
      "cell_type": "code",
      "metadata": {
        "id": "B-zDC2SAj1QS",
        "colab_type": "code",
        "colab": {}
      },
      "source": [
        "%tensorflow_version 2.x"
      ],
      "execution_count": 0,
      "outputs": []
    },
    {
      "cell_type": "code",
      "metadata": {
        "id": "iF7amtYulYJT",
        "colab_type": "code",
        "outputId": "76038aff-c7b7-4749-9c2b-b08f3bfddefa",
        "colab": {
          "base_uri": "https://localhost:8080/",
          "height": 128
        }
      },
      "source": [
        "#As my dataset is in my drive, hence mounting my location to drive...\n",
        "from google.colab import drive\n",
        "drive.mount('/content/drive')"
      ],
      "execution_count": 0,
      "outputs": [
        {
          "output_type": "stream",
          "text": [
            "Go to this URL in a browser: https://accounts.google.com/o/oauth2/auth?client_id=947318989803-6bn6qk8qdgf4n4g3pfee6491hc0brc4i.apps.googleusercontent.com&redirect_uri=urn%3aietf%3awg%3aoauth%3a2.0%3aoob&response_type=code&scope=email%20https%3a%2f%2fwww.googleapis.com%2fauth%2fdocs.test%20https%3a%2f%2fwww.googleapis.com%2fauth%2fdrive%20https%3a%2f%2fwww.googleapis.com%2fauth%2fdrive.photos.readonly%20https%3a%2f%2fwww.googleapis.com%2fauth%2fpeopleapi.readonly\n",
            "\n",
            "Enter your authorization code:\n",
            "··········\n",
            "Mounted at /content/drive\n"
          ],
          "name": "stdout"
        }
      ]
    },
    {
      "cell_type": "code",
      "metadata": {
        "id": "dBBNbO6IyPd2",
        "colab_type": "code",
        "colab": {}
      },
      "source": [
        "#Importing the required packages...\n",
        "import numpy as np\n",
        "import pandas as pd\n",
        "\n",
        "from tensorflow.keras.preprocessing.text import Tokenizer\n",
        "from tensorflow.keras.preprocessing import sequence\n",
        "from tensorflow.keras.layers import Dense, Dropout, Input, LSTM, Activation, Embedding\n",
        "from tensorflow.keras.models import Model\n",
        "\n",
        "import nltk\n",
        "nltk.download('punkt')\n",
        "from nltk import word_tokenize"
      ],
      "execution_count": 0,
      "outputs": []
    },
    {
      "cell_type": "code",
      "metadata": {
        "id": "DV0iA0gIl-om",
        "colab_type": "code",
        "colab": {}
      },
      "source": [
        "file= r'/content/imdb_labelled.txt'"
      ],
      "execution_count": 0,
      "outputs": []
    },
    {
      "cell_type": "code",
      "metadata": {
        "id": "MG94rF9uqQ5l",
        "colab_type": "code",
        "colab": {}
      },
      "source": [
        "imdb= pd.read_csv(file, sep='\\t', header=None, names=['review','target'])"
      ],
      "execution_count": 0,
      "outputs": []
    },
    {
      "cell_type": "code",
      "metadata": {
        "id": "oRN8ZIsCqkPB",
        "colab_type": "code",
        "outputId": "df54bdf8-83fe-4fbf-83cf-f1ffc7c7fe0b",
        "colab": {
          "base_uri": "https://localhost:8080/",
          "height": 206
        }
      },
      "source": [
        "imdb.head()"
      ],
      "execution_count": 0,
      "outputs": [
        {
          "output_type": "execute_result",
          "data": {
            "text/html": [
              "<div>\n",
              "<style scoped>\n",
              "    .dataframe tbody tr th:only-of-type {\n",
              "        vertical-align: middle;\n",
              "    }\n",
              "\n",
              "    .dataframe tbody tr th {\n",
              "        vertical-align: top;\n",
              "    }\n",
              "\n",
              "    .dataframe thead th {\n",
              "        text-align: right;\n",
              "    }\n",
              "</style>\n",
              "<table border=\"1\" class=\"dataframe\">\n",
              "  <thead>\n",
              "    <tr style=\"text-align: right;\">\n",
              "      <th></th>\n",
              "      <th>review</th>\n",
              "      <th>target</th>\n",
              "    </tr>\n",
              "  </thead>\n",
              "  <tbody>\n",
              "    <tr>\n",
              "      <th>0</th>\n",
              "      <td>A very, very, very slow-moving, aimless movie ...</td>\n",
              "      <td>0</td>\n",
              "    </tr>\n",
              "    <tr>\n",
              "      <th>1</th>\n",
              "      <td>Not sure who was more lost - the flat characte...</td>\n",
              "      <td>0</td>\n",
              "    </tr>\n",
              "    <tr>\n",
              "      <th>2</th>\n",
              "      <td>Attempting artiness with black &amp; white and cle...</td>\n",
              "      <td>0</td>\n",
              "    </tr>\n",
              "    <tr>\n",
              "      <th>3</th>\n",
              "      <td>Very little music or anything to speak of.</td>\n",
              "      <td>0</td>\n",
              "    </tr>\n",
              "    <tr>\n",
              "      <th>4</th>\n",
              "      <td>The best scene in the movie was when Gerardo i...</td>\n",
              "      <td>1</td>\n",
              "    </tr>\n",
              "  </tbody>\n",
              "</table>\n",
              "</div>"
            ],
            "text/plain": [
              "                                              review  target\n",
              "0  A very, very, very slow-moving, aimless movie ...       0\n",
              "1  Not sure who was more lost - the flat characte...       0\n",
              "2  Attempting artiness with black & white and cle...       0\n",
              "3       Very little music or anything to speak of.         0\n",
              "4  The best scene in the movie was when Gerardo i...       1"
            ]
          },
          "metadata": {
            "tags": []
          },
          "execution_count": 5
        }
      ]
    },
    {
      "cell_type": "markdown",
      "metadata": {
        "id": "t01HDh-xCa0k",
        "colab_type": "text"
      },
      "source": [
        "**Dowloading the pre-trained weights to use it for our model.**"
      ]
    },
    {
      "cell_type": "code",
      "metadata": {
        "id": "Xq59Yb9zqlR0",
        "colab_type": "code",
        "colab": {}
      },
      "source": [
        "##We can download Embedding directly from here using wget:\n",
        "#Just copy the link for the Embedding that you want to use...\n",
        "#https://nlp.stanford.edu/projects/glove/"
      ],
      "execution_count": 0,
      "outputs": []
    },
    {
      "cell_type": "code",
      "metadata": {
        "id": "vigJAKmZq_by",
        "colab_type": "code",
        "outputId": "b8a75584-50c0-4e5a-e1d6-05d47859c6c5",
        "colab": {
          "base_uri": "https://localhost:8080/",
          "height": 380
        }
      },
      "source": [
        "!wget http://nlp.stanford.edu/data/glove.42B.300d.zip"
      ],
      "execution_count": 0,
      "outputs": [
        {
          "output_type": "stream",
          "text": [
            "--2020-01-14 10:50:53--  http://nlp.stanford.edu/data/glove.42B.300d.zip\n",
            "Resolving nlp.stanford.edu (nlp.stanford.edu)... 171.64.67.140\n",
            "Connecting to nlp.stanford.edu (nlp.stanford.edu)|171.64.67.140|:80... connected.\n",
            "HTTP request sent, awaiting response... 302 Found\n",
            "Location: https://nlp.stanford.edu/data/glove.42B.300d.zip [following]\n",
            "--2020-01-14 10:50:54--  https://nlp.stanford.edu/data/glove.42B.300d.zip\n",
            "Connecting to nlp.stanford.edu (nlp.stanford.edu)|171.64.67.140|:443... connected.\n",
            "HTTP request sent, awaiting response... 301 Moved Permanently\n",
            "Location: http://downloads.cs.stanford.edu/nlp/data/glove.42B.300d.zip [following]\n",
            "--2020-01-14 10:50:54--  http://downloads.cs.stanford.edu/nlp/data/glove.42B.300d.zip\n",
            "Resolving downloads.cs.stanford.edu (downloads.cs.stanford.edu)... 171.64.64.22\n",
            "Connecting to downloads.cs.stanford.edu (downloads.cs.stanford.edu)|171.64.64.22|:80... connected.\n",
            "HTTP request sent, awaiting response... 200 OK\n",
            "Length: 1877800501 (1.7G) [application/zip]\n",
            "Saving to: ‘glove.42B.300d.zip’\n",
            "\n",
            "glove.42B.300d.zip  100%[===================>]   1.75G  2.01MB/s    in 14m 40s \n",
            "\n",
            "2020-01-14 11:05:34 (2.04 MB/s) - ‘glove.42B.300d.zip’ saved [1877800501/1877800501]\n",
            "\n"
          ],
          "name": "stdout"
        }
      ]
    },
    {
      "cell_type": "code",
      "metadata": {
        "id": "k5_Boar3rKta",
        "colab_type": "code",
        "outputId": "3a8f685e-cd9f-420d-f22d-7da09ae00470",
        "colab": {
          "base_uri": "https://localhost:8080/",
          "height": 53
        }
      },
      "source": [
        "!unzip /content/glove.42B.300d.zip "
      ],
      "execution_count": 0,
      "outputs": [
        {
          "output_type": "stream",
          "text": [
            "Archive:  /content/glove.42B.300d.zip\n",
            "  inflating: glove.42B.300d.txt      \n"
          ],
          "name": "stdout"
        }
      ]
    },
    {
      "cell_type": "code",
      "metadata": {
        "id": "BU1jbx5mrbtM",
        "colab_type": "code",
        "colab": {}
      },
      "source": [
        "embedding_index={}\n",
        "\n",
        "f=open('glove.42B.300d.txt', encoding='utf-8')\n",
        "for line in f:\n",
        "  values=line.split()\n",
        "  word=values[0]\n",
        "  coefs=np.asarray(values[1:], dtype='float32')\n",
        "  embedding_index[word]=coefs\n",
        "f.close()"
      ],
      "execution_count": 0,
      "outputs": []
    },
    {
      "cell_type": "markdown",
      "metadata": {
        "id": "6kk4IpGXCPwh",
        "colab_type": "text"
      },
      "source": [
        "**Splitting our data into train and test**"
      ]
    },
    {
      "cell_type": "code",
      "metadata": {
        "id": "7u3MZbv3sbaI",
        "colab_type": "code",
        "colab": {}
      },
      "source": [
        "from sklearn.model_selection import train_test_split\n",
        "data_train, data_test= train_test_split(imdb, test_size=0.2)"
      ],
      "execution_count": 0,
      "outputs": []
    },
    {
      "cell_type": "code",
      "metadata": {
        "id": "YDiPFzDcssRm",
        "colab_type": "code",
        "colab": {}
      },
      "source": [
        "x_train= data_train['review']\n",
        "y_train= data_train['target']\n",
        "\n",
        "x_test= data_test['review']\n",
        "y_test= data_test['target']"
      ],
      "execution_count": 0,
      "outputs": []
    },
    {
      "cell_type": "markdown",
      "metadata": {
        "id": "GeWYx6_wCndV",
        "colab_type": "text"
      },
      "source": [
        "**Data Preprocessing**"
      ]
    },
    {
      "cell_type": "code",
      "metadata": {
        "id": "a4gXt9qZtvCW",
        "colab_type": "code",
        "colab": {}
      },
      "source": [
        "sent_lens= [len(word_tokenize(x)) for x in x_train]"
      ],
      "execution_count": 0,
      "outputs": []
    },
    {
      "cell_type": "code",
      "metadata": {
        "id": "1UYO18llssY8",
        "colab_type": "code",
        "outputId": "ce22b25f-6db9-42ed-e210-27912e7d1467",
        "colab": {
          "base_uri": "https://localhost:8080/",
          "height": 35
        }
      },
      "source": [
        "np.percentile(sent_lens,95)"
      ],
      "execution_count": 0,
      "outputs": [
        {
          "output_type": "execute_result",
          "data": {
            "text/plain": [
              "38.14999999999998"
            ]
          },
          "metadata": {
            "tags": []
          },
          "execution_count": 20
        }
      ]
    },
    {
      "cell_type": "code",
      "metadata": {
        "id": "s-8VBIVdssad",
        "colab_type": "code",
        "colab": {}
      },
      "source": [
        "max_len=40\n",
        "\n",
        "tk= Tokenizer(char_level=False, split=' ')\n",
        "tk.fit_on_texts(x_train)\n",
        "\n",
        "seq_train= tk.texts_to_sequences(x_train)\n",
        "seq_test= tk.texts_to_sequences(x_test)\n",
        "\n",
        "vocab_size= len(tk.word_index)\n",
        "\n",
        "seq_train_matrix= sequence.pad_sequences(seq_train, maxlen=max_len)\n",
        "seq_test_matrix= sequence.pad_sequences(seq_test, maxlen=max_len)"
      ],
      "execution_count": 0,
      "outputs": []
    },
    {
      "cell_type": "code",
      "metadata": {
        "id": "v1Gv8fyrzY5H",
        "colab_type": "code",
        "outputId": "96013c39-e15c-4115-8e6c-db08ad9ccd8e",
        "colab": {
          "base_uri": "https://localhost:8080/",
          "height": 35
        }
      },
      "source": [
        "vocab_size"
      ],
      "execution_count": 0,
      "outputs": [
        {
          "output_type": "execute_result",
          "data": {
            "text/plain": [
              "2718"
            ]
          },
          "metadata": {
            "tags": []
          },
          "execution_count": 23
        }
      ]
    },
    {
      "cell_type": "code",
      "metadata": {
        "id": "hKmzTjfhzh89",
        "colab_type": "code",
        "colab": {}
      },
      "source": [
        "##Creating our Embedding matrix to bring down the size to 300\n",
        "#We will use 300D vector representation of the words from pretrained Embedding index that we downloaded.."
      ],
      "execution_count": 0,
      "outputs": []
    },
    {
      "cell_type": "code",
      "metadata": {
        "id": "mLmgwLb80b-1",
        "colab_type": "code",
        "colab": {}
      },
      "source": [
        "embedding_matrix= np.zeros((vocab_size+1,300))\n",
        "\n",
        "for word,i in tk.word_index.items():\n",
        "  embed_vector= embedding_index.get(word)\n",
        "  if embed_vector is not None:\n",
        "    embedding_matrix[i]=embed_vector"
      ],
      "execution_count": 0,
      "outputs": []
    },
    {
      "cell_type": "markdown",
      "metadata": {
        "id": "5Gd59J6pCt0i",
        "colab_type": "text"
      },
      "source": [
        "**Network Architecture**"
      ]
    },
    {
      "cell_type": "code",
      "metadata": {
        "id": "6lqULiMG1BxQ",
        "colab_type": "code",
        "outputId": "d891cacb-e675-451a-eb3e-2b7cde5f7f0d",
        "colab": {
          "base_uri": "https://localhost:8080/",
          "height": 201
        }
      },
      "source": [
        "inputs=Input(shape=[max_len], name='text_input')\n",
        "embed= Embedding(vocab_size+1,300, input_length=max_len, mask_zero=True, weights=[embedding_matrix], trainable=False)(inputs)\n",
        "lstm_layer= LSTM(50)(embed)\n",
        "dense1=Dense(10, activation='relu')(lstm_layer)\n",
        "drop=Dropout(0.2)(dense1)\n",
        "final_layer= Dense(1, activation='sigmoid')(drop)\n",
        "model= Model(inputs=inputs, outputs=final_layer)"
      ],
      "execution_count": 0,
      "outputs": [
        {
          "output_type": "stream",
          "text": [
            "WARNING:tensorflow:From /usr/local/lib/python3.6/dist-packages/tensorflow_core/python/keras/initializers.py:119: calling RandomUniform.__init__ (from tensorflow.python.ops.init_ops) with dtype is deprecated and will be removed in a future version.\n",
            "Instructions for updating:\n",
            "Call initializer instance with the dtype argument instead of passing it to the constructor\n",
            "WARNING:tensorflow:From /usr/local/lib/python3.6/dist-packages/tensorflow_core/python/ops/resource_variable_ops.py:1630: calling BaseResourceVariable.__init__ (from tensorflow.python.ops.resource_variable_ops) with constraint is deprecated and will be removed in a future version.\n",
            "Instructions for updating:\n",
            "If using Keras pass *_constraint arguments to layers.\n",
            "WARNING:tensorflow:From /usr/local/lib/python3.6/dist-packages/tensorflow_core/python/keras/backend.py:3994: where (from tensorflow.python.ops.array_ops) is deprecated and will be removed in a future version.\n",
            "Instructions for updating:\n",
            "Use tf.where in 2.0, which has the same broadcast rule as np.where\n"
          ],
          "name": "stdout"
        }
      ]
    },
    {
      "cell_type": "code",
      "metadata": {
        "id": "pFY04Zd_2hdY",
        "colab_type": "code",
        "outputId": "4b1ada72-4e84-4066-b0e6-bcb7a91c6f1f",
        "colab": {
          "base_uri": "https://localhost:8080/",
          "height": 380
        }
      },
      "source": [
        "model.summary()"
      ],
      "execution_count": 0,
      "outputs": [
        {
          "output_type": "stream",
          "text": [
            "Model: \"model\"\n",
            "_________________________________________________________________\n",
            "Layer (type)                 Output Shape              Param #   \n",
            "=================================================================\n",
            "text_input (InputLayer)      [(None, 40)]              0         \n",
            "_________________________________________________________________\n",
            "embedding (Embedding)        (None, 40, 300)           815700    \n",
            "_________________________________________________________________\n",
            "lstm (LSTM)                  (None, 50)                70200     \n",
            "_________________________________________________________________\n",
            "dense (Dense)                (None, 10)                510       \n",
            "_________________________________________________________________\n",
            "dropout (Dropout)            (None, 10)                0         \n",
            "_________________________________________________________________\n",
            "dense_1 (Dense)              (None, 1)                 11        \n",
            "=================================================================\n",
            "Total params: 886,421\n",
            "Trainable params: 70,721\n",
            "Non-trainable params: 815,700\n",
            "_________________________________________________________________\n"
          ],
          "name": "stdout"
        }
      ]
    },
    {
      "cell_type": "code",
      "metadata": {
        "id": "9K2TAjeX2j9a",
        "colab_type": "code",
        "colab": {}
      },
      "source": [
        "model.compile(optimizer='adam', loss='binary_crossentropy', metrics=['accuracy'])"
      ],
      "execution_count": 0,
      "outputs": []
    },
    {
      "cell_type": "code",
      "metadata": {
        "id": "FY2XOGdx2tcZ",
        "colab_type": "code",
        "outputId": "70a3a784-d240-4277-905e-2376b00cfd9c",
        "colab": {
          "base_uri": "https://localhost:8080/",
          "height": 1000
        }
      },
      "source": [
        "model.fit(seq_train_matrix, y_train.values, validation_data=[seq_test_matrix, y_test.values], epochs=40, class_weight={0:1, 1:12}, batch_size=50)"
      ],
      "execution_count": 0,
      "outputs": [
        {
          "output_type": "stream",
          "text": [
            "Train on 598 samples, validate on 150 samples\n",
            "Epoch 1/40\n",
            "598/598 [==============================] - 4s 6ms/sample - loss: 4.4297 - acc: 0.4900 - val_loss: 0.7048 - val_acc: 0.5333\n",
            "Epoch 2/40\n",
            "598/598 [==============================] - 1s 2ms/sample - loss: 2.7393 - acc: 0.5151 - val_loss: 0.9296 - val_acc: 0.5333\n",
            "Epoch 3/40\n",
            "598/598 [==============================] - 1s 2ms/sample - loss: 1.9601 - acc: 0.5117 - val_loss: 1.2153 - val_acc: 0.5333\n",
            "Epoch 4/40\n",
            "598/598 [==============================] - 1s 2ms/sample - loss: 1.8867 - acc: 0.5117 - val_loss: 1.3048 - val_acc: 0.5333\n",
            "Epoch 5/40\n",
            "598/598 [==============================] - 1s 2ms/sample - loss: 1.8357 - acc: 0.5117 - val_loss: 1.2667 - val_acc: 0.5333\n",
            "Epoch 6/40\n",
            "598/598 [==============================] - 1s 2ms/sample - loss: 1.7153 - acc: 0.5117 - val_loss: 1.1820 - val_acc: 0.5333\n",
            "Epoch 7/40\n",
            "598/598 [==============================] - 1s 2ms/sample - loss: 1.8316 - acc: 0.5134 - val_loss: 1.1843 - val_acc: 0.5333\n",
            "Epoch 8/40\n",
            "598/598 [==============================] - 1s 2ms/sample - loss: 1.6652 - acc: 0.5134 - val_loss: 1.0593 - val_acc: 0.5333\n",
            "Epoch 9/40\n",
            "598/598 [==============================] - 1s 2ms/sample - loss: 1.4993 - acc: 0.5284 - val_loss: 0.9181 - val_acc: 0.5400\n",
            "Epoch 10/40\n",
            "598/598 [==============================] - 1s 2ms/sample - loss: 1.4454 - acc: 0.5535 - val_loss: 1.2211 - val_acc: 0.5467\n",
            "Epoch 11/40\n",
            "598/598 [==============================] - 1s 2ms/sample - loss: 1.3037 - acc: 0.5953 - val_loss: 0.7044 - val_acc: 0.5800\n",
            "Epoch 12/40\n",
            "598/598 [==============================] - 1s 2ms/sample - loss: 1.1424 - acc: 0.6421 - val_loss: 0.7021 - val_acc: 0.6067\n",
            "Epoch 13/40\n",
            "598/598 [==============================] - 1s 2ms/sample - loss: 1.0404 - acc: 0.6873 - val_loss: 0.5781 - val_acc: 0.7133\n",
            "Epoch 14/40\n",
            "598/598 [==============================] - 1s 2ms/sample - loss: 0.8978 - acc: 0.7308 - val_loss: 0.5461 - val_acc: 0.7400\n",
            "Epoch 15/40\n",
            "598/598 [==============================] - 1s 2ms/sample - loss: 0.8806 - acc: 0.7625 - val_loss: 0.5716 - val_acc: 0.7267\n",
            "Epoch 16/40\n",
            "598/598 [==============================] - 1s 2ms/sample - loss: 0.7624 - acc: 0.7910 - val_loss: 0.5201 - val_acc: 0.7400\n",
            "Epoch 17/40\n",
            "598/598 [==============================] - 1s 2ms/sample - loss: 0.7199 - acc: 0.8043 - val_loss: 0.5566 - val_acc: 0.7800\n",
            "Epoch 18/40\n",
            "598/598 [==============================] - 1s 2ms/sample - loss: 0.6332 - acc: 0.8311 - val_loss: 0.4591 - val_acc: 0.8000\n",
            "Epoch 19/40\n",
            "598/598 [==============================] - 1s 2ms/sample - loss: 0.5122 - acc: 0.8779 - val_loss: 0.5194 - val_acc: 0.7867\n",
            "Epoch 20/40\n",
            "598/598 [==============================] - 1s 2ms/sample - loss: 0.4424 - acc: 0.8779 - val_loss: 0.5337 - val_acc: 0.7867\n",
            "Epoch 21/40\n",
            "598/598 [==============================] - 1s 2ms/sample - loss: 0.4034 - acc: 0.8963 - val_loss: 0.7119 - val_acc: 0.7667\n",
            "Epoch 22/40\n",
            "598/598 [==============================] - 1s 2ms/sample - loss: 0.3867 - acc: 0.9047 - val_loss: 0.5646 - val_acc: 0.7933\n",
            "Epoch 23/40\n",
            "598/598 [==============================] - 1s 2ms/sample - loss: 0.5948 - acc: 0.8545 - val_loss: 0.5268 - val_acc: 0.7667\n",
            "Epoch 24/40\n",
            "598/598 [==============================] - 1s 2ms/sample - loss: 0.4263 - acc: 0.8829 - val_loss: 0.5371 - val_acc: 0.7933\n",
            "Epoch 25/40\n",
            "598/598 [==============================] - 1s 2ms/sample - loss: 0.3807 - acc: 0.9114 - val_loss: 0.6330 - val_acc: 0.7867\n",
            "Epoch 26/40\n",
            "598/598 [==============================] - 1s 2ms/sample - loss: 0.3323 - acc: 0.9197 - val_loss: 1.0722 - val_acc: 0.7400\n",
            "Epoch 27/40\n",
            "598/598 [==============================] - 1s 2ms/sample - loss: 0.2605 - acc: 0.9365 - val_loss: 0.6872 - val_acc: 0.7733\n",
            "Epoch 28/40\n",
            "598/598 [==============================] - 1s 2ms/sample - loss: 0.2824 - acc: 0.9298 - val_loss: 0.5789 - val_acc: 0.8000\n",
            "Epoch 29/40\n",
            "598/598 [==============================] - 1s 2ms/sample - loss: 0.1732 - acc: 0.9515 - val_loss: 0.6142 - val_acc: 0.8133\n",
            "Epoch 30/40\n",
            "598/598 [==============================] - 1s 2ms/sample - loss: 0.1626 - acc: 0.9532 - val_loss: 0.6752 - val_acc: 0.8133\n",
            "Epoch 31/40\n",
            "598/598 [==============================] - 1s 2ms/sample - loss: 0.2081 - acc: 0.9431 - val_loss: 0.7053 - val_acc: 0.7933\n",
            "Epoch 32/40\n",
            "598/598 [==============================] - 1s 2ms/sample - loss: 0.2131 - acc: 0.9582 - val_loss: 1.0618 - val_acc: 0.7400\n",
            "Epoch 33/40\n",
            "598/598 [==============================] - 1s 2ms/sample - loss: 0.1642 - acc: 0.9548 - val_loss: 0.5285 - val_acc: 0.8200\n",
            "Epoch 34/40\n",
            "598/598 [==============================] - 1s 2ms/sample - loss: 0.1436 - acc: 0.9515 - val_loss: 0.7727 - val_acc: 0.7933\n",
            "Epoch 35/40\n",
            "598/598 [==============================] - 1s 2ms/sample - loss: 0.0948 - acc: 0.9866 - val_loss: 0.7636 - val_acc: 0.8000\n",
            "Epoch 36/40\n",
            "598/598 [==============================] - 1s 2ms/sample - loss: 0.0822 - acc: 0.9900 - val_loss: 0.8307 - val_acc: 0.8067\n",
            "Epoch 37/40\n",
            "598/598 [==============================] - 1s 2ms/sample - loss: 0.0948 - acc: 0.9799 - val_loss: 0.8235 - val_acc: 0.8067\n",
            "Epoch 38/40\n",
            "598/598 [==============================] - 1s 2ms/sample - loss: 0.0906 - acc: 0.9833 - val_loss: 0.8283 - val_acc: 0.8000\n",
            "Epoch 39/40\n",
            "598/598 [==============================] - 1s 2ms/sample - loss: 0.0784 - acc: 0.9883 - val_loss: 0.9399 - val_acc: 0.8000\n",
            "Epoch 40/40\n",
            "598/598 [==============================] - 1s 2ms/sample - loss: 0.0512 - acc: 0.9916 - val_loss: 0.9033 - val_acc: 0.7933\n"
          ],
          "name": "stdout"
        },
        {
          "output_type": "execute_result",
          "data": {
            "text/plain": [
              "<tensorflow.python.keras.callbacks.History at 0x7fbc6034feb8>"
            ]
          },
          "metadata": {
            "tags": []
          },
          "execution_count": 29
        }
      ]
    },
    {
      "cell_type": "code",
      "metadata": {
        "id": "5DYJXGq43LrJ",
        "colab_type": "code",
        "colab": {}
      },
      "source": [
        "p=model.predict(seq_test_matrix)"
      ],
      "execution_count": 0,
      "outputs": []
    },
    {
      "cell_type": "code",
      "metadata": {
        "id": "wFqBF_Iu3SsD",
        "colab_type": "code",
        "outputId": "1d80aa85-1b51-41b1-810a-8798a084a90d",
        "colab": {
          "base_uri": "https://localhost:8080/",
          "height": 35
        }
      },
      "source": [
        "from sklearn.metrics import roc_auc_score\n",
        "roc_auc_score(y_test,p)"
      ],
      "execution_count": 0,
      "outputs": [
        {
          "output_type": "execute_result",
          "data": {
            "text/plain": [
              "0.90875"
            ]
          },
          "metadata": {
            "tags": []
          },
          "execution_count": 34
        }
      ]
    },
    {
      "cell_type": "code",
      "metadata": {
        "id": "fVOTLLin3ij9",
        "colab_type": "code",
        "colab": {}
      },
      "source": [
        ""
      ],
      "execution_count": 0,
      "outputs": []
    }
  ]
}